{
  "nbformat": 4,
  "nbformat_minor": 0,
  "metadata": {
    "colab": {
      "name": "Task_1_Prediction_using_supervised_ML_With_Python.ipynb",
      "provenance": []
    },
    "kernelspec": {
      "name": "python3",
      "display_name": "Python 3"
    }
  },
  "cells": [
    {
      "cell_type": "markdown",
      "metadata": {
        "id": "uEMbK7hsZfPe"
      },
      "source": [
        "#GRIPMAR21 The Sparks Foundation"
      ]
    },
    {
      "cell_type": "markdown",
      "metadata": {
        "id": "lRV6qCvclRMT"
      },
      "source": [
        "#Author: PRADEEP K"
      ]
    },
    {
      "cell_type": "markdown",
      "metadata": {
        "id": "GkAEXs4zRfn4"
      },
      "source": [
        "###Supervised Machine Learning\n"
      ]
    },
    {
      "cell_type": "markdown",
      "metadata": {
        "id": "7M_LZcM-RmYK"
      },
      "source": [
        "Supervised learning is the machine learning concept.It is learning with a labeled training set. It is two types regression(For continuous values) and classification(For discrete values ( classes))."
      ]
    },
    {
      "cell_type": "markdown",
      "metadata": {
        "id": "M8CIRrTelXn3"
      },
      "source": [
        "##Problem Statement: Predict the percentage of an student based on the no. of study hours. "
      ]
    },
    {
      "cell_type": "markdown",
      "metadata": {
        "id": "C_0CI4evlm68"
      },
      "source": [
        "###This is a simple linear regression task(If you know something about X, this knowledge helps you predict something about Y).\n",
        " "
      ]
    },
    {
      "cell_type": "markdown",
      "metadata": {
        "id": "lg8FhAHKPT6z"
      },
      "source": [
        "<p> The linear formula is <b> Y = mX + C</b> which is linearly fit with the data. Here, m (slope) is coefficient value which is multiplied by X variable , C is the Y intercept value</p>\n",
        "\n",
        "Variables:\n",
        "• X = Independent Variable (we provide this)\n",
        "• Y = Dependent Variable (we observe this)\n",
        "• m = Coeffiecient\n"
      ]
    },
    {
      "cell_type": "markdown",
      "metadata": {
        "id": "9-zd5mgFlxAx"
      },
      "source": [
        "Importing Libraries"
      ]
    },
    {
      "cell_type": "code",
      "metadata": {
        "id": "apOY6dK1krJ_"
      },
      "source": [
        "import warnings\n",
        "warnings.filterwarnings(\"ignore\")\n",
        "\n",
        "import numpy as np\n",
        "import pandas as pd\n",
        "import matplotlib.pyplot as plt\n",
        "import seaborn as sns\n",
        "%matplotlib inline\n",
        "\n",
        "from sklearn.model_selection  import train_test_split\n",
        "from sklearn.linear_model import LinearRegression\n",
        "from sklearn.metrics import mean_absolute_error, mean_squared_error\n",
        "\n"
      ],
      "execution_count": 24,
      "outputs": []
    },
    {
      "cell_type": "markdown",
      "metadata": {
        "id": "O8ZhgKFdmFq5"
      },
      "source": [
        "###Data load"
      ]
    },
    {
      "cell_type": "code",
      "metadata": {
        "colab": {
          "base_uri": "https://localhost:8080/",
          "height": 206
        },
        "id": "JhOFe06mmCvG",
        "outputId": "f00ab9d8-2e67-43f8-f0cc-85d2dd7906ea"
      },
      "source": [
        "data = pd.read_csv('https://raw.githubusercontent.com/AdiPersonalWorks/Random/master/student_scores%20-%20student_scores.csv')\n",
        "data.head() # showing first five rows "
      ],
      "execution_count": 25,
      "outputs": [
        {
          "output_type": "execute_result",
          "data": {
            "text/html": [
              "<div>\n",
              "<style scoped>\n",
              "    .dataframe tbody tr th:only-of-type {\n",
              "        vertical-align: middle;\n",
              "    }\n",
              "\n",
              "    .dataframe tbody tr th {\n",
              "        vertical-align: top;\n",
              "    }\n",
              "\n",
              "    .dataframe thead th {\n",
              "        text-align: right;\n",
              "    }\n",
              "</style>\n",
              "<table border=\"1\" class=\"dataframe\">\n",
              "  <thead>\n",
              "    <tr style=\"text-align: right;\">\n",
              "      <th></th>\n",
              "      <th>Hours</th>\n",
              "      <th>Scores</th>\n",
              "    </tr>\n",
              "  </thead>\n",
              "  <tbody>\n",
              "    <tr>\n",
              "      <th>0</th>\n",
              "      <td>2.5</td>\n",
              "      <td>21</td>\n",
              "    </tr>\n",
              "    <tr>\n",
              "      <th>1</th>\n",
              "      <td>5.1</td>\n",
              "      <td>47</td>\n",
              "    </tr>\n",
              "    <tr>\n",
              "      <th>2</th>\n",
              "      <td>3.2</td>\n",
              "      <td>27</td>\n",
              "    </tr>\n",
              "    <tr>\n",
              "      <th>3</th>\n",
              "      <td>8.5</td>\n",
              "      <td>75</td>\n",
              "    </tr>\n",
              "    <tr>\n",
              "      <th>4</th>\n",
              "      <td>3.5</td>\n",
              "      <td>30</td>\n",
              "    </tr>\n",
              "  </tbody>\n",
              "</table>\n",
              "</div>"
            ],
            "text/plain": [
              "   Hours  Scores\n",
              "0    2.5      21\n",
              "1    5.1      47\n",
              "2    3.2      27\n",
              "3    8.5      75\n",
              "4    3.5      30"
            ]
          },
          "metadata": {
            "tags": []
          },
          "execution_count": 25
        }
      ]
    },
    {
      "cell_type": "markdown",
      "metadata": {
        "id": "6JBoT3i8mXjz"
      },
      "source": [
        "##Exploratory Data Analysis and Data Preparation"
      ]
    },
    {
      "cell_type": "code",
      "metadata": {
        "colab": {
          "base_uri": "https://localhost:8080/"
        },
        "id": "6xgN9G6LmPrh",
        "outputId": "c63f12f0-6930-4b62-f30d-31f70bf33426"
      },
      "source": [
        "data.columns ## showing column names"
      ],
      "execution_count": 26,
      "outputs": [
        {
          "output_type": "execute_result",
          "data": {
            "text/plain": [
              "Index(['Hours', 'Scores'], dtype='object')"
            ]
          },
          "metadata": {
            "tags": []
          },
          "execution_count": 26
        }
      ]
    },
    {
      "cell_type": "code",
      "metadata": {
        "colab": {
          "base_uri": "https://localhost:8080/"
        },
        "id": "T5IFNzvpmSUA",
        "outputId": "0303cf3c-12a8-4269-c1cc-a13e9edd8f18"
      },
      "source": [
        "data.shape ## shape of Dataset"
      ],
      "execution_count": 27,
      "outputs": [
        {
          "output_type": "execute_result",
          "data": {
            "text/plain": [
              "(25, 2)"
            ]
          },
          "metadata": {
            "tags": []
          },
          "execution_count": 27
        }
      ]
    },
    {
      "cell_type": "code",
      "metadata": {
        "colab": {
          "base_uri": "https://localhost:8080/"
        },
        "id": "_l-56iHYmUtV",
        "outputId": "20506f36-20eb-4d78-fa4e-03bac779dbab"
      },
      "source": [
        "data.size ## Dataset size "
      ],
      "execution_count": 28,
      "outputs": [
        {
          "output_type": "execute_result",
          "data": {
            "text/plain": [
              "50"
            ]
          },
          "metadata": {
            "tags": []
          },
          "execution_count": 28
        }
      ]
    },
    {
      "cell_type": "code",
      "metadata": {
        "colab": {
          "base_uri": "https://localhost:8080/"
        },
        "id": "H68SECQMmjwe",
        "outputId": "9e41e1c6-f005-4d1f-b0c3-c46c3d12c69c"
      },
      "source": [
        "data.info() # Brief information about Dataset "
      ],
      "execution_count": 29,
      "outputs": [
        {
          "output_type": "stream",
          "text": [
            "<class 'pandas.core.frame.DataFrame'>\n",
            "RangeIndex: 25 entries, 0 to 24\n",
            "Data columns (total 2 columns):\n",
            " #   Column  Non-Null Count  Dtype  \n",
            "---  ------  --------------  -----  \n",
            " 0   Hours   25 non-null     float64\n",
            " 1   Scores  25 non-null     int64  \n",
            "dtypes: float64(1), int64(1)\n",
            "memory usage: 528.0 bytes\n"
          ],
          "name": "stdout"
        }
      ]
    },
    {
      "cell_type": "code",
      "metadata": {
        "colab": {
          "base_uri": "https://localhost:8080/"
        },
        "id": "ORym1OsYms0Z",
        "outputId": "48107f72-b9a3-4b57-b226-ad303948b622"
      },
      "source": [
        "data.isnull().sum() # Check missing values is available or not"
      ],
      "execution_count": 30,
      "outputs": [
        {
          "output_type": "execute_result",
          "data": {
            "text/plain": [
              "Hours     0\n",
              "Scores    0\n",
              "dtype: int64"
            ]
          },
          "metadata": {
            "tags": []
          },
          "execution_count": 30
        }
      ]
    },
    {
      "cell_type": "code",
      "metadata": {
        "colab": {
          "base_uri": "https://localhost:8080/",
          "height": 300
        },
        "id": "tfqv_i5TmxJH",
        "outputId": "8eff7180-cf28-42cd-e26d-8010f4e96cc5"
      },
      "source": [
        "data.describe() ## Describe statistics  analysis (Data)"
      ],
      "execution_count": 31,
      "outputs": [
        {
          "output_type": "execute_result",
          "data": {
            "text/html": [
              "<div>\n",
              "<style scoped>\n",
              "    .dataframe tbody tr th:only-of-type {\n",
              "        vertical-align: middle;\n",
              "    }\n",
              "\n",
              "    .dataframe tbody tr th {\n",
              "        vertical-align: top;\n",
              "    }\n",
              "\n",
              "    .dataframe thead th {\n",
              "        text-align: right;\n",
              "    }\n",
              "</style>\n",
              "<table border=\"1\" class=\"dataframe\">\n",
              "  <thead>\n",
              "    <tr style=\"text-align: right;\">\n",
              "      <th></th>\n",
              "      <th>Hours</th>\n",
              "      <th>Scores</th>\n",
              "    </tr>\n",
              "  </thead>\n",
              "  <tbody>\n",
              "    <tr>\n",
              "      <th>count</th>\n",
              "      <td>25.000000</td>\n",
              "      <td>25.000000</td>\n",
              "    </tr>\n",
              "    <tr>\n",
              "      <th>mean</th>\n",
              "      <td>5.012000</td>\n",
              "      <td>51.480000</td>\n",
              "    </tr>\n",
              "    <tr>\n",
              "      <th>std</th>\n",
              "      <td>2.525094</td>\n",
              "      <td>25.286887</td>\n",
              "    </tr>\n",
              "    <tr>\n",
              "      <th>min</th>\n",
              "      <td>1.100000</td>\n",
              "      <td>17.000000</td>\n",
              "    </tr>\n",
              "    <tr>\n",
              "      <th>25%</th>\n",
              "      <td>2.700000</td>\n",
              "      <td>30.000000</td>\n",
              "    </tr>\n",
              "    <tr>\n",
              "      <th>50%</th>\n",
              "      <td>4.800000</td>\n",
              "      <td>47.000000</td>\n",
              "    </tr>\n",
              "    <tr>\n",
              "      <th>75%</th>\n",
              "      <td>7.400000</td>\n",
              "      <td>75.000000</td>\n",
              "    </tr>\n",
              "    <tr>\n",
              "      <th>max</th>\n",
              "      <td>9.200000</td>\n",
              "      <td>95.000000</td>\n",
              "    </tr>\n",
              "  </tbody>\n",
              "</table>\n",
              "</div>"
            ],
            "text/plain": [
              "           Hours     Scores\n",
              "count  25.000000  25.000000\n",
              "mean    5.012000  51.480000\n",
              "std     2.525094  25.286887\n",
              "min     1.100000  17.000000\n",
              "25%     2.700000  30.000000\n",
              "50%     4.800000  47.000000\n",
              "75%     7.400000  75.000000\n",
              "max     9.200000  95.000000"
            ]
          },
          "metadata": {
            "tags": []
          },
          "execution_count": 31
        }
      ]
    },
    {
      "cell_type": "code",
      "metadata": {
        "colab": {
          "base_uri": "https://localhost:8080/"
        },
        "id": "ppDhUlHlm19T",
        "outputId": "12028295-e75e-4030-cada-c245b79c7b5b"
      },
      "source": [
        "data.mean() # Find each columns mean(average) value"
      ],
      "execution_count": 32,
      "outputs": [
        {
          "output_type": "execute_result",
          "data": {
            "text/plain": [
              "Hours      5.012\n",
              "Scores    51.480\n",
              "dtype: float64"
            ]
          },
          "metadata": {
            "tags": []
          },
          "execution_count": 32
        }
      ]
    },
    {
      "cell_type": "code",
      "metadata": {
        "colab": {
          "base_uri": "https://localhost:8080/"
        },
        "id": "enTUQyhPm88-",
        "outputId": "b98cd746-f23f-48ce-fddf-51ca48d3ea54"
      },
      "source": [
        "data.std()#standard deviation"
      ],
      "execution_count": 33,
      "outputs": [
        {
          "output_type": "execute_result",
          "data": {
            "text/plain": [
              "Hours      2.525094\n",
              "Scores    25.286887\n",
              "dtype: float64"
            ]
          },
          "metadata": {
            "tags": []
          },
          "execution_count": 33
        }
      ]
    },
    {
      "cell_type": "code",
      "metadata": {
        "colab": {
          "base_uri": "https://localhost:8080/"
        },
        "id": "jDqihSdEnAe2",
        "outputId": "b7ded8c2-28cd-4f9f-f4be-9438a220918e"
      },
      "source": [
        "data.var()#variance"
      ],
      "execution_count": 34,
      "outputs": [
        {
          "output_type": "execute_result",
          "data": {
            "text/plain": [
              "Hours       6.376100\n",
              "Scores    639.426667\n",
              "dtype: float64"
            ]
          },
          "metadata": {
            "tags": []
          },
          "execution_count": 34
        }
      ]
    },
    {
      "cell_type": "markdown",
      "metadata": {
        "id": "u235dSyhnU1J"
      },
      "source": [
        "####Data Visualization"
      ]
    },
    {
      "cell_type": "markdown",
      "metadata": {
        "id": "0MFLZZb3OTh9"
      },
      "source": [
        "Let's plot our data points on 2-D graph and to check any relationship between the data(manually).Scores vs Hours"
      ]
    },
    {
      "cell_type": "code",
      "metadata": {
        "colab": {
          "base_uri": "https://localhost:8080/",
          "height": 295
        },
        "id": "5FLIRRE8niVP",
        "outputId": "51960e7b-edea-407a-d8d7-f5bcd7be54da"
      },
      "source": [
        "sns.scatterplot(data.Hours, data.Scores)\n",
        "plt.title('Scores vs Hours')\n",
        "plt.show()"
      ],
      "execution_count": 35,
      "outputs": [
        {
          "output_type": "display_data",
          "data": {
            "image/png": "[encoded data removed]",
            "text/plain": [
              "<Figure size 432x288 with 1 Axes>"
            ]
          },
          "metadata": {
            "tags": [],
            "needs_background": "light"
          }
        }
      ]
    },
    {
      "cell_type": "markdown",
      "metadata": {
        "id": "wMNM5mWUOa2C"
      },
      "source": [
        "From the graph above, we can clearly see that there is a positive linear relation between the number of hours studied and percentage of score."
      ]
    },
    {
      "cell_type": "markdown",
      "metadata": {
        "id": "tIG73m7rNWuC"
      },
      "source": [
        "###Separated by feature columns(inputs) and target column (Output)"
      ]
    },
    {
      "cell_type": "code",
      "metadata": {
        "id": "2MS6rDaqo3Ru"
      },
      "source": [
        "X = data.drop('Scores', axis=1)\n",
        "y = data.Scores"
      ],
      "execution_count": 36,
      "outputs": []
    },
    {
      "cell_type": "markdown",
      "metadata": {
        "id": "7YYvm5Gsopd3"
      },
      "source": [
        "###Sample Splitting to train data and test data(70:30)"
      ]
    },
    {
      "cell_type": "markdown",
      "metadata": {
        "id": "vK71ix0pOmuH"
      },
      "source": [
        "By using Scikit-Learn's built-in train_test_split() method:"
      ]
    },
    {
      "cell_type": "code",
      "metadata": {
        "colab": {
          "base_uri": "https://localhost:8080/"
        },
        "id": "ebzBp1pHn7m8",
        "outputId": "8e3e7a5b-138d-4c16-8a00-e1ba738c81d6"
      },
      "source": [
        "\n",
        "X_train, X_test, y_train, y_test = train_test_split(X, y , train_size = 0.70, test_size = 0.30, random_state = 12)\n",
        "print('X_train: ', X_train.shape)\n",
        "print('X_test: ', X_test.shape)\n",
        "print('y_train: ', y_train.shape)\n",
        "print('y_test: ', y_test.shape)\n"
      ],
      "execution_count": 37,
      "outputs": [
        {
          "output_type": "stream",
          "text": [
            "X_train:  (17, 1)\n",
            "X_test:  (8, 1)\n",
            "y_train:  (17,)\n",
            "y_test:  (8,)\n"
          ],
          "name": "stdout"
        }
      ]
    },
    {
      "cell_type": "markdown",
      "metadata": {
        "id": "rVgflqhSqWI5"
      },
      "source": [
        "##Model Building"
      ]
    },
    {
      "cell_type": "code",
      "metadata": {
        "colab": {
          "base_uri": "https://localhost:8080/"
        },
        "id": "_1SV6w7xpsDT",
        "outputId": "99c7f323-9302-482f-c0eb-d9329e3aac17"
      },
      "source": [
        "\n",
        "lr = LinearRegression()\n",
        "lr.fit(X_train , y_train)#Model creation by the help of Train data"
      ],
      "execution_count": 38,
      "outputs": [
        {
          "output_type": "execute_result",
          "data": {
            "text/plain": [
              "LinearRegression(copy_X=True, fit_intercept=True, n_jobs=None, normalize=False)"
            ]
          },
          "metadata": {
            "tags": []
          },
          "execution_count": 38
        }
      ]
    },
    {
      "cell_type": "code",
      "metadata": {
        "colab": {
          "base_uri": "https://localhost:8080/"
        },
        "id": "MDsxgIILqoNX",
        "outputId": "b7ef1c49-bf33-4476-9b7b-5e9f8a90c265"
      },
      "source": [
        "y_predict = lr.predict(X_test)#predit Y data using value of X and model\n",
        "print(y_predict)"
      ],
      "execution_count": 39,
      "outputs": [
        {
          "output_type": "stream",
          "text": [
            "[74.97365707 56.40147769 62.26637644 52.49154519 89.63590396 83.7710052\n",
            " 36.85181518 13.39222016]\n"
          ],
          "name": "stdout"
        }
      ]
    },
    {
      "cell_type": "code",
      "metadata": {
        "colab": {
          "base_uri": "https://localhost:8080/"
        },
        "id": "fqO1MIA4q3Oq",
        "outputId": "3f6e87d4-374c-42fb-c80f-34bbcf55bb80"
      },
      "source": [
        "print(y_test)"
      ],
      "execution_count": 40,
      "outputs": [
        {
          "output_type": "stream",
          "text": [
            "19    69\n",
            "7     60\n",
            "18    67\n",
            "1     47\n",
            "15    95\n",
            "8     81\n",
            "4     30\n",
            "14    17\n",
            "Name: Scores, dtype: int64\n"
          ],
          "name": "stdout"
        }
      ]
    },
    {
      "cell_type": "code",
      "metadata": {
        "colab": {
          "base_uri": "https://localhost:8080/"
        },
        "id": "Bhs1ZtJiA8Bb",
        "outputId": "90236d19-8f8f-4e70-a7e4-0a270dea9aa0"
      },
      "source": [
        "print(\"Coefficient Value: \", lr.coef_)\n",
        "print(\"Ïntercept Value: \", lr.intercept_)"
      ],
      "execution_count": 41,
      "outputs": [
        {
          "output_type": "stream",
          "text": [
            "Coefficient Value:  [9.77483126]\n",
            "Ïntercept Value:  2.639905784194248\n"
          ],
          "name": "stdout"
        }
      ]
    },
    {
      "cell_type": "code",
      "metadata": {
        "colab": {
          "base_uri": "https://localhost:8080/",
          "height": 265
        },
        "id": "jh-xuP3DArds",
        "outputId": "57df3d9f-def3-4e8d-fa6a-df440804047b"
      },
      "source": [
        "# Plotting the regression line\n",
        "line = lr.coef_*X+lr.intercept_\n",
        "\n",
        "# Plotting for the test data\n",
        "plt.scatter(X, y)\n",
        "plt.plot(X, line);\n",
        "plt.show()"
      ],
      "execution_count": 42,
      "outputs": [
        {
          "output_type": "display_data",
          "data": {
            "image/png": "[encoded data removed]",
            "text/plain": [
              "<Figure size 432x288 with 1 Axes>"
            ]
          },
          "metadata": {
            "tags": [],
            "needs_background": "light"
          }
        }
      ]
    },
    {
      "cell_type": "code",
      "metadata": {
        "colab": {
          "base_uri": "https://localhost:8080/",
          "height": 300
        },
        "id": "FIzq88A0q7wV",
        "outputId": "3749c2e1-29b5-4fc9-8f9b-8e6b38c490a9"
      },
      "source": [
        "data_1 = pd.DataFrame({'Actual Value': y_test, 'Predicted Value': y_predict,'Difference': (y_predict - y_test)})\n",
        "data_1"
      ],
      "execution_count": 43,
      "outputs": [
        {
          "output_type": "execute_result",
          "data": {
            "text/html": [
              "<div>\n",
              "<style scoped>\n",
              "    .dataframe tbody tr th:only-of-type {\n",
              "        vertical-align: middle;\n",
              "    }\n",
              "\n",
              "    .dataframe tbody tr th {\n",
              "        vertical-align: top;\n",
              "    }\n",
              "\n",
              "    .dataframe thead th {\n",
              "        text-align: right;\n",
              "    }\n",
              "</style>\n",
              "<table border=\"1\" class=\"dataframe\">\n",
              "  <thead>\n",
              "    <tr style=\"text-align: right;\">\n",
              "      <th></th>\n",
              "      <th>Actual Value</th>\n",
              "      <th>Predicted Value</th>\n",
              "      <th>Difference</th>\n",
              "    </tr>\n",
              "  </thead>\n",
              "  <tbody>\n",
              "    <tr>\n",
              "      <th>19</th>\n",
              "      <td>69</td>\n",
              "      <td>74.973657</td>\n",
              "      <td>5.973657</td>\n",
              "    </tr>\n",
              "    <tr>\n",
              "      <th>7</th>\n",
              "      <td>60</td>\n",
              "      <td>56.401478</td>\n",
              "      <td>-3.598522</td>\n",
              "    </tr>\n",
              "    <tr>\n",
              "      <th>18</th>\n",
              "      <td>67</td>\n",
              "      <td>62.266376</td>\n",
              "      <td>-4.733624</td>\n",
              "    </tr>\n",
              "    <tr>\n",
              "      <th>1</th>\n",
              "      <td>47</td>\n",
              "      <td>52.491545</td>\n",
              "      <td>5.491545</td>\n",
              "    </tr>\n",
              "    <tr>\n",
              "      <th>15</th>\n",
              "      <td>95</td>\n",
              "      <td>89.635904</td>\n",
              "      <td>-5.364096</td>\n",
              "    </tr>\n",
              "    <tr>\n",
              "      <th>8</th>\n",
              "      <td>81</td>\n",
              "      <td>83.771005</td>\n",
              "      <td>2.771005</td>\n",
              "    </tr>\n",
              "    <tr>\n",
              "      <th>4</th>\n",
              "      <td>30</td>\n",
              "      <td>36.851815</td>\n",
              "      <td>6.851815</td>\n",
              "    </tr>\n",
              "    <tr>\n",
              "      <th>14</th>\n",
              "      <td>17</td>\n",
              "      <td>13.392220</td>\n",
              "      <td>-3.607780</td>\n",
              "    </tr>\n",
              "  </tbody>\n",
              "</table>\n",
              "</div>"
            ],
            "text/plain": [
              "    Actual Value  Predicted Value  Difference\n",
              "19            69        74.973657    5.973657\n",
              "7             60        56.401478   -3.598522\n",
              "18            67        62.266376   -4.733624\n",
              "1             47        52.491545    5.491545\n",
              "15            95        89.635904   -5.364096\n",
              "8             81        83.771005    2.771005\n",
              "4             30        36.851815    6.851815\n",
              "14            17        13.392220   -3.607780"
            ]
          },
          "metadata": {
            "tags": []
          },
          "execution_count": 43
        }
      ]
    },
    {
      "cell_type": "markdown",
      "metadata": {
        "id": "hoCVCRb7s1xJ"
      },
      "source": [
        "###What will be predicted score if a student studies for 9.25 hrs/ day?"
      ]
    },
    {
      "cell_type": "code",
      "metadata": {
        "colab": {
          "base_uri": "https://localhost:8080/"
        },
        "id": "raxy__ZQs1Z4",
        "outputId": "b61c5722-6100-4d1e-ec74-a0bb341f194a"
      },
      "source": [
        "predict = lr.predict([[9.25]])\n",
        "print(predict)"
      ],
      "execution_count": 44,
      "outputs": [
        {
          "output_type": "stream",
          "text": [
            "[93.0570949]\n"
          ],
          "name": "stdout"
        }
      ]
    },
    {
      "cell_type": "markdown",
      "metadata": {
        "id": "mEb77-ZCrfeQ"
      },
      "source": [
        "##Evaluate The Model "
      ]
    },
    {
      "cell_type": "markdown",
      "metadata": {
        "id": "0qEPVQxjXA3b"
      },
      "source": [
        "<p><img style=\"width:300px;height:400px;\" src = \"https://imgur.com/Z85Iylh.png\" alt = \"\"></p>"
      ]
    },
    {
      "cell_type": "code",
      "metadata": {
        "colab": {
          "base_uri": "https://localhost:8080/"
        },
        "id": "PGo5XrmfrOlC",
        "outputId": "93e0036e-e9f6-4d0b-8a91-67ac7348adfc"
      },
      "source": [
        "\n",
        "\n",
        "print(\"Mean Absolute Error: \", mean_absolute_error(y_predict, y_test))\n",
        "print(\"Mean Squared Error: \", mean_squared_error(y_predict, y_test))\n",
        "print(\"Root Mean Squared Error(RMSE): \", np.sqrt(mean_squared_error(y_predict, y_test)))"
      ],
      "execution_count": 45,
      "outputs": [
        {
          "output_type": "stream",
          "text": [
            "Mean Absolute Error:  4.7990055486547325\n",
            "Mean Squared Error:  24.701705618997128\n",
            "Root Mean Squared Error(RMSE):  4.97008104752801\n"
          ],
          "name": "stdout"
        }
      ]
    },
    {
      "cell_type": "markdown",
      "metadata": {
        "id": "XRg2AEVsLA45"
      },
      "source": [
        "### Inference: For 9.25 hours of study percentage expected is 93% ."
      ]
    },
    {
      "cell_type": "markdown",
      "metadata": {
        "id": "yHwPzy4DLPdJ"
      },
      "source": [
        "#Thank You for watching"
      ]
    },
    {
      "cell_type": "code",
      "metadata": {
        "id": "lUYk5atVr0jb"
      },
      "source": [
        ""
      ],
      "execution_count": null,
      "outputs": []
    }
  ]
}